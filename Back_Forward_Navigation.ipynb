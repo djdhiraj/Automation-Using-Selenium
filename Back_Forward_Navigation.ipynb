{
 "cells": [
  {
   "cell_type": "code",
   "execution_count": 1,
   "metadata": {},
   "outputs": [],
   "source": [
    "from selenium import webdriver\n",
    "from selenium.webdriver.support.ui import Select\n",
    "from selenium.webdriver.common.keys import Keys\n",
    "import time\n",
    "\n"
   ]
  },
  {
   "cell_type": "code",
   "execution_count": 2,
   "metadata": {},
   "outputs": [
    {
     "name": "stdout",
     "output_type": "stream",
     "text": [
      "Software Testing Tools\n"
     ]
    }
   ],
   "source": [
    "driver = webdriver.Chrome(executable_path = \"chromedriver.exe\")\n",
    "\n",
    "driver.get(\"http://www.pavantestingtools.com/\")\n",
    "\n",
    "time.sleep(5)\n",
    "driver.forward()\n",
    "\n",
    "print(driver.title)\n",
    "\n",
    "driver.back()\n",
    "\n",
    "time.sleep(10)\n",
    "\n",
    "driver.forward()\n",
    "\n",
    "time.sleep(10)\n",
    "\n",
    "driver.find_element_by_xpath(\"//*[@id='site-navigationpbt']/div/ul/li[1]/a\").click()\n",
    "time.sleep(10)\n",
    "\n",
    "driver.find_element_by_xpath(\"//*[@id='site-navigationpbt']/div/ul/li[11]/a\").click()\n",
    "\n",
    "driver.quit()"
   ]
  },
  {
   "cell_type": "code",
   "execution_count": null,
   "metadata": {},
   "outputs": [],
   "source": []
  }
 ],
 "metadata": {
  "kernelspec": {
   "display_name": "Python 3",
   "language": "python",
   "name": "python3"
  },
  "language_info": {
   "codemirror_mode": {
    "name": "ipython",
    "version": 3
   },
   "file_extension": ".py",
   "mimetype": "text/x-python",
   "name": "python",
   "nbconvert_exporter": "python",
   "pygments_lexer": "ipython3",
   "version": "3.7.0"
  }
 },
 "nbformat": 4,
 "nbformat_minor": 2
}

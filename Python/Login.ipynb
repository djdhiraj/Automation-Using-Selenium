{
 "cells": [
  {
   "cell_type": "code",
   "execution_count": 1,
   "metadata": {},
   "outputs": [],
   "source": [
    "from selenium import webdriver\n",
    "from selenium.webdriver.common.by import By\n",
    "import time \n",
    "\n",
    "driver=webdriver.Chrome(\"chromedriver.exe\")\n",
    "driver.get(\"https://opensource-demo.orangehrmlive.com/\")\n",
    "driver.find_element(By.XPATH,\"//*[@id='txtUsername']\").send_keys(\"admin\")\n",
    "\n",
    "driver.find_element(By.XPATH,\"//*[@id='txtPassword']\").send_keys(\"admin123\")\n",
    "\n",
    "driver.find_element(By.XPATH,\"//*[@id='btnLogin']\").click()\n",
    "\n",
    "\n",
    "driver.find_element(By.XPATH,\"//*[@id='menu_admin_viewAdminModule']/b\").click()\n",
    "\n",
    "driver.find_element(By.XPATH,\"//*[@id='menu_admin_UserManagement']\").click()\n",
    "\n",
    "driver.find_element(By.XPATH,\"//*[@id='menu_admin_viewSystemUsers']\").click()\n",
    "\n",
    "driver.find_element(By.XPATH,\"//*[@id='ohrmList_chkSelectRecord_12']\").click()\n",
    "\n",
    "driver.find_element(By.XPATH,\"//*[@id='btnDelete']\").click()\n"
   ]
  },
  {
   "cell_type": "code",
   "execution_count": null,
   "metadata": {},
   "outputs": [],
   "source": [
    " "
   ]
  }
 ],
 "metadata": {
  "kernelspec": {
   "display_name": "Python 3",
   "language": "python",
   "name": "python3"
  },
  "language_info": {
   "codemirror_mode": {
    "name": "ipython",
    "version": 3
   },
   "file_extension": ".py",
   "mimetype": "text/x-python",
   "name": "python",
   "nbconvert_exporter": "python",
   "pygments_lexer": "ipython3",
   "version": "3.7.0"
  }
 },
 "nbformat": 4,
 "nbformat_minor": 2
}

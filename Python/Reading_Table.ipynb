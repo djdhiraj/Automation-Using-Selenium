{
 "cells": [
  {
   "cell_type": "code",
   "execution_count": null,
   "metadata": {},
   "outputs": [],
   "source": [
    "import openpyxl\n",
    "\n",
    "path=\"C:/Users/djdac/student.xlsx\"\n",
    "\n",
    "workbook = openpyxl.load_workbook(path)\n",
    "\n",
    "sheet=workbook.active\n",
    "\n",
    "rows = sheet.max_row\n",
    "\n",
    "cols=sheet.max_column\n",
    "\n",
    "print(rows)\n",
    "\n",
    "print(cols)\n",
    "\n",
    "for r in range(1,rows+1):\n",
    "    for c in range(1,cols+1):\n",
    "        \n",
    "        print(sheet.cell(row=r,column=c).value,end=\"  \")\n",
    "        \n",
    "    print()\n"
   ]
  }
 ],
 "metadata": {
  "kernelspec": {
   "display_name": "Python 3",
   "language": "python",
   "name": "python3"
  },
  "language_info": {
   "codemirror_mode": {
    "name": "ipython",
    "version": 3
   },
   "file_extension": ".py",
   "mimetype": "text/x-python",
   "name": "python",
   "nbconvert_exporter": "python",
   "pygments_lexer": "ipython3",
   "version": "3.7.0"
  }
 },
 "nbformat": 4,
 "nbformat_minor": 2
}

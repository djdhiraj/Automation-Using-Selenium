{
 "cells": [
  {
   "cell_type": "code",
   "execution_count": 8,
   "metadata": {},
   "outputs": [
    {
     "name": "stderr",
     "output_type": "stream",
     "text": [
      "c:\\users\\djdac\\appdata\\local\\programs\\python\\python37\\lib\\site-packages\\ipykernel_launcher.py:8: DeprecationWarning: Call to deprecated function get_sheet_by_name (Use wb[sheetname]).\n",
      "  \n",
      "c:\\users\\djdac\\appdata\\local\\programs\\python\\python37\\lib\\site-packages\\ipykernel_launcher.py:18: DeprecationWarning: Call to deprecated function get_sheet_by_name (Use wb[sheetname]).\n"
     ]
    },
    {
     "name": "stdout",
     "output_type": "stream",
     "text": [
      "test failed\n"
     ]
    },
    {
     "name": "stderr",
     "output_type": "stream",
     "text": [
      "c:\\users\\djdac\\appdata\\local\\programs\\python\\python37\\lib\\site-packages\\ipykernel_launcher.py:23: DeprecationWarning: Call to deprecated function get_sheet_by_name (Use wb[sheetname]).\n"
     ]
    },
    {
     "name": "stdout",
     "output_type": "stream",
     "text": [
      "test is passed\n",
      "test failed\n",
      "test failed\n"
     ]
    }
   ],
   "source": [
    "import openpyxl\n",
    "import sys\n",
    "from selenium import webdriver\n",
    "\n",
    "\n",
    "def getRowCount(file,sheetName):\n",
    "    workbook = openpyxl.load_workbook(file)\n",
    "    sheet = workbook.get_sheet_by_name(sheetName)\n",
    "    return(sheet.max_row)\n",
    "\n",
    "def getColumnCount(file,sheetName):\n",
    "    workbook = openpyxl.load_workbook(file)\n",
    "    sheet = workbook.get_sheet_by_name(sheetName)\n",
    "    return(sheet.max_column)\n",
    "\n",
    "def readData(file,sheetName,rownum,columnno):\n",
    "    workbook = openpyxl.load_workbook(file)\n",
    "    sheet = workbook.get_sheet_by_name(sheetName)\n",
    "    return sheet.cell(row=rownum,column=columnno).value\n",
    "\n",
    "def writeData(file,sheetName,rownum,columnno,data):\n",
    "    workbook = openpyxl.load_workbook(file)\n",
    "    sheet = workbook.get_sheet_by_name(sheetName)\n",
    "    sheet.cell(row=rownum,column=columnno).value=data\n",
    "    workbook.save(file)\n",
    "    \n",
    "driver = webdriver.Chrome(\"chromedriver.exe\")\n",
    "driver.get(\"http://newtours.demoaut.com/\")\n",
    "driver.maximize_window()\n",
    "\n",
    "path = \"C:/Users/djdac/Student.xlsx\"\n",
    "rows = getRowCount(path,\"Sheet1\")\n",
    "for r in range(2,rows+1):\n",
    "    username=readData(path,'Sheet1',r,1)\n",
    "    password=readData(path,'Sheet1',r,2)\n",
    "    \n",
    "    driver.find_element_by_name(\"userName\").send_keys(username)\n",
    "    driver.find_element_by_name(\"password\").send_keys(password)\n",
    "    \n",
    "    driver.find_element_by_name(\"login\").click()\n",
    "    \n",
    "    if driver.title==\"Find a Flight: Mercury Tours:\":\n",
    "        print(\"test is passed\")\n",
    "        writeData(path,\"Sheet1\",r,3,\"test passed\")\n",
    "    else:\n",
    "        print(\"test failed\")\n",
    "        writeData(path,\"Sheet1\",r,3,\"test failed\")\n",
    "    \n",
    "    driver.find_element_by_link_text(\"Home\").click()"
   ]
  },
  {
   "cell_type": "code",
   "execution_count": null,
   "metadata": {},
   "outputs": [],
   "source": []
  },
  {
   "cell_type": "code",
   "execution_count": null,
   "metadata": {},
   "outputs": [],
   "source": []
  }
 ],
 "metadata": {
  "kernelspec": {
   "display_name": "Python 3",
   "language": "python",
   "name": "python3"
  },
  "language_info": {
   "codemirror_mode": {
    "name": "ipython",
    "version": 3
   },
   "file_extension": ".py",
   "mimetype": "text/x-python",
   "name": "python",
   "nbconvert_exporter": "python",
   "pygments_lexer": "ipython3",
   "version": "3.7.0"
  }
 },
 "nbformat": 4,
 "nbformat_minor": 2
}

{
 "cells": [
  {
   "cell_type": "code",
   "execution_count": 1,
   "metadata": {},
   "outputs": [
    {
     "name": "stdout",
     "output_type": "stream",
     "text": [
      "True\n",
      "True\n",
      "True\n",
      "True\n",
      "True\n",
      "False\n"
     ]
    }
   ],
   "source": [
    "from selenium import webdriver\n",
    "from selenium.webdriver.common.by import By\n",
    "import time \n",
    "from selenium.webdriver.support import expected_conditions as EC\n",
    "\n",
    "driver = webdriver.Chrome(executable_path='chromedriver')\n",
    "\n",
    "#driver.implicitly.wait(5)\n",
    "\n",
    "#driver.maximize()\n",
    "\n",
    "driver.get(\"http://newtours.demoaut.com/\")\n",
    "\n",
    "ele_user = driver.find_element_by_name(\"userName\")\n",
    "\n",
    "print(ele_user.is_displayed())\n",
    "\n",
    "print(ele_user.is_enabled())\n",
    "\n",
    "ele_pass = driver.find_element_by_name(\"password\")\n",
    "\n",
    "print(ele_pass.is_displayed())\n",
    "\n",
    "print(ele_pass.is_enabled())\n",
    "\n",
    "ele_user.send_keys(\"mercury\")\n",
    "ele_pass.send_keys(\"mercury\")\n",
    "\n",
    "driver.find_element_by_name(\"login\").click()\n",
    "\n",
    "roundtrip_radio = driver.find_element_by_css_selector(\"input[value = roundtrip]\")\n",
    "\n",
    "print(roundtrip_radio.is_selected())\n",
    "\n",
    "ontrip_radio = driver.find_element_by_css_selector(\"input[value = oneway]\")\n",
    "\n",
    "print(ontrip_radio.is_selected())\n",
    "\n",
    "driver.quit()\n"
   ]
  },
  {
   "cell_type": "code",
   "execution_count": null,
   "metadata": {},
   "outputs": [],
   "source": []
  }
 ],
 "metadata": {
  "kernelspec": {
   "display_name": "Python 3",
   "language": "python",
   "name": "python3"
  },
  "language_info": {
   "codemirror_mode": {
    "name": "ipython",
    "version": 3
   },
   "file_extension": ".py",
   "mimetype": "text/x-python",
   "name": "python",
   "nbconvert_exporter": "python",
   "pygments_lexer": "ipython3",
   "version": "3.7.0"
  }
 },
 "nbformat": 4,
 "nbformat_minor": 2
}

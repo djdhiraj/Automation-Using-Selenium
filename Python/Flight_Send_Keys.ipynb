{
 "cells": [
  {
   "cell_type": "code",
   "execution_count": 2,
   "metadata": {},
   "outputs": [],
   "source": [
    "from selenium import webdriver\n",
    "from selenium.webdriver.common.by import By\n",
    "import time \n",
    "from selenium.webdriver.support import expected_conditions as EC\n",
    "\n",
    "driver = webdriver.Chrome(executable_path='chromedriver')\n",
    "\n",
    "driver.implicitly_wait(5)\n",
    "\n",
    "driver.maximize_window()\n",
    "\n",
    "driver.get(\"https://www.expedia.com/\")\n",
    "\n",
    "driver.find_element(By.ID,\"tab-flight-tab-hp\").click()\n",
    "\n",
    "driver.find_element(By.ID,\"flight-origin-hp-flight\").send_keys(\"SFO\")\n",
    "\n",
    "time.sleep(5)\n",
    "\n",
    "driver.find_element(By.ID,\"flight-destination-hp-flight\").send_keys(\"NYC\")\n",
    "\n",
    "driver.find_element(By.ID,\"flight-departing-hp-flight\").clear()\n",
    "\n",
    "driver.find_element(By.ID,\"flight-departing-hp-flight\").send_keys(\"12/3/2019\")\n",
    "\n",
    "driver.find_element(By.ID,\"flight-returning-hp-flight\").clear()\n",
    "\n",
    "driver.find_element(By.ID,\"flight-returning-hp-flight\").send_keys(\"15/3/2019\")\n",
    "\n",
    "driver.find_element(By.XPATH,\"//*[@id='gcw-flights-form-hp-flight']/div[7]/label/button\").click()\n",
    "\n",
    "#wait = WebDriverWait(driver, 10)\n",
    "\n",
    "#element = wait.until(EC.element_to_be_clickable((By.XPATH,\"//*[@id='stopFilter_stop-0']\")))\n",
    "\n",
    "#element.click()\n",
    "\n",
    "time.sleep(10)\n",
    "\n",
    "driver.quit()\n",
    "\n",
    "\n"
   ]
  },
  {
   "cell_type": "code",
   "execution_count": null,
   "metadata": {},
   "outputs": [],
   "source": []
  }
 ],
 "metadata": {
  "kernelspec": {
   "display_name": "Python 3",
   "language": "python",
   "name": "python3"
  },
  "language_info": {
   "codemirror_mode": {
    "name": "ipython",
    "version": 3
   },
   "file_extension": ".py",
   "mimetype": "text/x-python",
   "name": "python",
   "nbconvert_exporter": "python",
   "pygments_lexer": "ipython3",
   "version": "3.7.0"
  }
 },
 "nbformat": 4,
 "nbformat_minor": 2
}

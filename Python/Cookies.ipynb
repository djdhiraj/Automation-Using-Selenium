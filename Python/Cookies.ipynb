{
 "cells": [
  {
   "cell_type": "code",
   "execution_count": 9,
   "metadata": {},
   "outputs": [
    {
     "name": "stdout",
     "output_type": "stream",
     "text": [
      "8\n",
      "[{'domain': '.amazon.in', 'expiry': 2182098102.908984, 'httpOnly': False, 'name': 'session-token', 'path': '/', 'secure': False, 'value': 'PM27Bq6rbTqESZewKx1+ah5dGTKSTsqn7PpLOhZu0kuZMZxGEe9Qj1H6bqHNnOAhvZCUCZNfuLSeNMHzdio6AsUjrlu8ivYjHXpZeJsg45PHz97Ka2rqHhplIdXtbXN6Du7/61nJo1aqQXJEz80yCpCiWFRZDSSrsvved5e4XVjXL0Wr5lMlI16pAxzOa94ys7BWtK6U//eOSPIl7BkQfrXxwgub0eLdSj/2nm1UorsJWudjIwa86A=='}, {'domain': '.amazon.in', 'expiry': 2082758026.307539, 'httpOnly': False, 'name': 'session-id-time', 'path': '/', 'secure': False, 'value': '2082758401l'}, {'domain': '.amazon.in', 'expiry': 1553970096, 'httpOnly': False, 'name': 'visitCount', 'path': '/', 'secure': False, 'value': '1'}, {'domain': '.amazon.in', 'expiry': 2082758026.307477, 'httpOnly': False, 'name': 'ubid-acbin', 'path': '/', 'secure': False, 'value': '262-3562088-7644263'}, {'domain': '.amazon.in', 'expiry': 2082758026.307581, 'httpOnly': False, 'name': 'session-id', 'path': '/', 'secure': False, 'value': '258-1913968-2638238'}, {'domain': '.amazon.in', 'expiry': 2082786826.559887, 'httpOnly': False, 'name': 'i18n-prefs', 'path': '/', 'secure': False, 'value': 'INR'}, {'domain': 'www.amazon.in', 'expiry': 1611858084, 'httpOnly': False, 'name': 'csm-hit', 'path': '/', 'secure': False, 'value': 'tb:s-V38FEKWBJ6GH5TQHTKQJ|1551378084997&t:1551378084997'}, {'domain': '.amazon.in', 'expiry': 2082758026.007041, 'httpOnly': False, 'name': 'x-wl-uid', 'path': '/', 'secure': False, 'value': '1DDcWdLTzoXbrQnxaWexT0dt4Fdd2nnUDfwtziQ+3CQN34Lyl/CdU1h5lwt6PYv2+TpLaqWuQcuw='}]\n"
     ]
    }
   ],
   "source": [
    "from selenium import webdriver\n",
    "from selenium.webdriver.common.by import By\n",
    "import time \n",
    "from selenium.webdriver.support import expected_conditions as EC\n",
    "\n",
    "driver = webdriver.Chrome(executable_path='chromedriver')\n",
    "\n",
    "driver.get(\"https://www.amazon.in/\")\n",
    "\n",
    "cookies=driver.get_cookies()\n",
    "\n",
    "print(len(cookies))\n",
    "\n",
    "print(cookies)\n",
    "\n",
    "\n",
    "\n",
    "\n"
   ]
  },
  {
   "cell_type": "code",
   "execution_count": 10,
   "metadata": {},
   "outputs": [
    {
     "name": "stdout",
     "output_type": "stream",
     "text": [
      "10\n",
      "[{'domain': '.amazon.in', 'expiry': 2082786825.978286, 'httpOnly': False, 'name': 'session-token', 'path': '/', 'secure': False, 'value': '\"PM27Bq6rbTqESZewKx1+ah5dGTKSTsqn7PpLOhZu0kuZMZxGEe9Qj1H6bqHNnOAhvZCUCZNfuLSeNMHzdio6AsUjrlu8ivYjHXpZeJsg45PHz97Ka2rqHhplIdXtbXN6Du7/61nJo1aqQXJEz80yCpCiWFRZDSSrsvved5e4XVjXL0Wr5lMlI16pAxzOa94ys7BWtK6U//eOSPIl7BkQfrXxwgub0eLdSj/2nm1UorsJWudjIwa86A==\"'}, {'domain': '.amazon.in', 'expiry': 2082786825.97808, 'httpOnly': False, 'name': 'session-id-time', 'path': '/', 'secure': False, 'value': '2082787201l'}, {'domain': '.amazon.in', 'expiry': 1553970096, 'httpOnly': False, 'name': 'visitCount', 'path': '/', 'secure': False, 'value': '1'}, {'domain': '.amazon.in', 'expiry': 2082758026.645192, 'httpOnly': False, 'name': 'ubid-acbin', 'path': '/', 'secure': False, 'value': '262-3562088-7644263'}, {'domain': '.amazon.in', 'expiry': 2082786825.97773, 'httpOnly': False, 'name': 'session-id', 'path': '/', 'secure': False, 'value': '258-1913968-2638238'}, {'domain': '.amazon.in', 'expiry': 2082786825.97812, 'httpOnly': False, 'name': 'i18n-prefs', 'path': '/', 'secure': False, 'value': 'INR'}, {'domain': '.amazon.in', 'expiry': 2082758026.007041, 'httpOnly': False, 'name': 'x-wl-uid', 'path': '/', 'secure': False, 'value': '1DDcWdLTzoXbrQnxaWexT0dt4Fdd2nnUDfwtziQ+3CQN34Lyl/CdU1h5lwt6PYv2+TpLaqWuQcuw='}, {'domain': 'www.amazon.in', 'expiry': 1611858104, 'httpOnly': False, 'name': 'csm-hit', 'path': '/', 'secure': False, 'value': 'tb:s-V38FEKWBJ6GH5TQHTKQJ|1551378084997&t:1551378104734&adb:adblk_no'}, {'domain': '.amazon.in', 'expiry': 2082758026.257979, 'httpOnly': False, 'name': 'lc-acbin', 'path': '/', 'secure': False, 'value': 'en_IN'}, {'domain': 'www.amazon.in', 'expiry': 2182098119, 'httpOnly': False, 'name': 'Mycookie', 'path': '/', 'secure': True, 'value': '123456789'}]\n"
     ]
    }
   ],
   "source": [
    "cookie={'name':'Mycookie','value':'123456789'}\n",
    "\n",
    "driver.add_cookie(cookie)\n",
    "\n",
    "cookies=driver.get_cookies()\n",
    "\n",
    "print(len(cookies))\n",
    "\n",
    "print(cookies)"
   ]
  },
  {
   "cell_type": "code",
   "execution_count": 11,
   "metadata": {},
   "outputs": [
    {
     "name": "stdout",
     "output_type": "stream",
     "text": [
      "9\n"
     ]
    }
   ],
   "source": [
    "driver.delete_cookie('Mycookie')\n",
    "cookies=driver.get_cookies()\n",
    "print(len(cookies))"
   ]
  },
  {
   "cell_type": "code",
   "execution_count": null,
   "metadata": {},
   "outputs": [],
   "source": []
  }
 ],
 "metadata": {
  "kernelspec": {
   "display_name": "Python 3",
   "language": "python",
   "name": "python3"
  },
  "language_info": {
   "codemirror_mode": {
    "name": "ipython",
    "version": 3
   },
   "file_extension": ".py",
   "mimetype": "text/x-python",
   "name": "python",
   "nbconvert_exporter": "python",
   "pygments_lexer": "ipython3",
   "version": "3.7.0"
  }
 },
 "nbformat": 4,
 "nbformat_minor": 2
}
